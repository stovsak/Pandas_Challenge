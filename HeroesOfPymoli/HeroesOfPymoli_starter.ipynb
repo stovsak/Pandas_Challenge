{
 "cells": [
  {
   "cell_type": "markdown",
   "metadata": {},
   "source": [
    "### Note\n",
    "* Instructions have been included for each segment. You do not have to follow them exactly, but they are included to help you think through the steps."
   ]
  },
  {
   "cell_type": "code",
   "execution_count": 1,
   "metadata": {},
   "outputs": [
    {
     "data": {
      "text/html": [
       "<div>\n",
       "<style scoped>\n",
       "    .dataframe tbody tr th:only-of-type {\n",
       "        vertical-align: middle;\n",
       "    }\n",
       "\n",
       "    .dataframe tbody tr th {\n",
       "        vertical-align: top;\n",
       "    }\n",
       "\n",
       "    .dataframe thead th {\n",
       "        text-align: right;\n",
       "    }\n",
       "</style>\n",
       "<table border=\"1\" class=\"dataframe\">\n",
       "  <thead>\n",
       "    <tr style=\"text-align: right;\">\n",
       "      <th></th>\n",
       "      <th>Purchase ID</th>\n",
       "      <th>SN</th>\n",
       "      <th>Age</th>\n",
       "      <th>Gender</th>\n",
       "      <th>Item ID</th>\n",
       "      <th>Item Name</th>\n",
       "      <th>Price</th>\n",
       "    </tr>\n",
       "  </thead>\n",
       "  <tbody>\n",
       "    <tr>\n",
       "      <th>0</th>\n",
       "      <td>0</td>\n",
       "      <td>Lisim78</td>\n",
       "      <td>20</td>\n",
       "      <td>Male</td>\n",
       "      <td>108</td>\n",
       "      <td>Extraction, Quickblade Of Trembling Hands</td>\n",
       "      <td>3.53</td>\n",
       "    </tr>\n",
       "    <tr>\n",
       "      <th>1</th>\n",
       "      <td>1</td>\n",
       "      <td>Lisovynya38</td>\n",
       "      <td>40</td>\n",
       "      <td>Male</td>\n",
       "      <td>143</td>\n",
       "      <td>Frenzied Scimitar</td>\n",
       "      <td>1.56</td>\n",
       "    </tr>\n",
       "    <tr>\n",
       "      <th>2</th>\n",
       "      <td>2</td>\n",
       "      <td>Ithergue48</td>\n",
       "      <td>24</td>\n",
       "      <td>Male</td>\n",
       "      <td>92</td>\n",
       "      <td>Final Critic</td>\n",
       "      <td>4.88</td>\n",
       "    </tr>\n",
       "    <tr>\n",
       "      <th>3</th>\n",
       "      <td>3</td>\n",
       "      <td>Chamassasya86</td>\n",
       "      <td>24</td>\n",
       "      <td>Male</td>\n",
       "      <td>100</td>\n",
       "      <td>Blindscythe</td>\n",
       "      <td>3.27</td>\n",
       "    </tr>\n",
       "    <tr>\n",
       "      <th>4</th>\n",
       "      <td>4</td>\n",
       "      <td>Iskosia90</td>\n",
       "      <td>23</td>\n",
       "      <td>Male</td>\n",
       "      <td>131</td>\n",
       "      <td>Fury</td>\n",
       "      <td>1.44</td>\n",
       "    </tr>\n",
       "  </tbody>\n",
       "</table>\n",
       "</div>"
      ],
      "text/plain": [
       "   Purchase ID             SN  Age Gender  Item ID  \\\n",
       "0            0        Lisim78   20   Male      108   \n",
       "1            1    Lisovynya38   40   Male      143   \n",
       "2            2     Ithergue48   24   Male       92   \n",
       "3            3  Chamassasya86   24   Male      100   \n",
       "4            4      Iskosia90   23   Male      131   \n",
       "\n",
       "                                   Item Name  Price  \n",
       "0  Extraction, Quickblade Of Trembling Hands   3.53  \n",
       "1                          Frenzied Scimitar   1.56  \n",
       "2                               Final Critic   4.88  \n",
       "3                                Blindscythe   3.27  \n",
       "4                                       Fury   1.44  "
      ]
     },
     "execution_count": 1,
     "metadata": {},
     "output_type": "execute_result"
    }
   ],
   "source": [
    "# Dependencies and Setup\n",
    "import pandas as pd\n",
    "\n",
    "# File to Load (Remember to Change These)\n",
    "csv_path = \"Resources/purchase_data.csv\"\n",
    "P\n",
    "# Read Purchasing File and store into Pandas data frame\n",
    "purchase_data_df = pd.read_csv(csv_path, encoding=\"utf-8\")\n",
    "purchase_data_df.head()"
   ]
  },
  {
   "cell_type": "markdown",
   "metadata": {},
   "source": [
    "## Player Count"
   ]
  },
  {
   "cell_type": "markdown",
   "metadata": {},
   "source": [
    "* Display the total number of players\n"
   ]
  },
  {
   "cell_type": "code",
   "execution_count": 2,
   "metadata": {},
   "outputs": [
    {
     "data": {
      "text/html": [
       "<div>\n",
       "<style scoped>\n",
       "    .dataframe tbody tr th:only-of-type {\n",
       "        vertical-align: middle;\n",
       "    }\n",
       "\n",
       "    .dataframe tbody tr th {\n",
       "        vertical-align: top;\n",
       "    }\n",
       "\n",
       "    .dataframe thead th {\n",
       "        text-align: right;\n",
       "    }\n",
       "</style>\n",
       "<table border=\"1\" class=\"dataframe\">\n",
       "  <thead>\n",
       "    <tr style=\"text-align: right;\">\n",
       "      <th></th>\n",
       "      <th>Total Players</th>\n",
       "    </tr>\n",
       "  </thead>\n",
       "  <tbody>\n",
       "    <tr>\n",
       "      <th>0</th>\n",
       "      <td>576</td>\n",
       "    </tr>\n",
       "  </tbody>\n",
       "</table>\n",
       "</div>"
      ],
      "text/plain": [
       "   Total Players\n",
       "0            576"
      ]
     },
     "execution_count": 2,
     "metadata": {},
     "output_type": "execute_result"
    }
   ],
   "source": [
    "# Calculate the total players based on the unique identifer \"Screen Name\" which is called out as \"SN\"\n",
    "total_players = len(purchase_data_df[\"SN\"].value_counts())\n",
    "# DataFrame for the total players\n",
    "player_count = pd.DataFrame({\"Total Players\":[total_players]})\n",
    "player_count"
   ]
  },
  {
   "cell_type": "markdown",
   "metadata": {},
   "source": [
    "## Purchasing Analysis (Total)"
   ]
  },
  {
   "cell_type": "markdown",
   "metadata": {},
   "source": [
    "* Run basic calculations to obtain number of unique items, average price, etc.\n",
    "\n",
    "\n",
    "* Create a summary data frame to hold the results\n",
    "\n",
    "\n",
    "* Optional: give the displayed data cleaner formatting\n",
    "\n",
    "\n",
    "* Display the summary data frame\n"
   ]
  },
  {
   "cell_type": "code",
   "execution_count": 3,
   "metadata": {},
   "outputs": [
    {
     "data": {
      "text/html": [
       "<div>\n",
       "<style scoped>\n",
       "    .dataframe tbody tr th:only-of-type {\n",
       "        vertical-align: middle;\n",
       "    }\n",
       "\n",
       "    .dataframe tbody tr th {\n",
       "        vertical-align: top;\n",
       "    }\n",
       "\n",
       "    .dataframe thead th {\n",
       "        text-align: right;\n",
       "    }\n",
       "</style>\n",
       "<table border=\"1\" class=\"dataframe\">\n",
       "  <thead>\n",
       "    <tr style=\"text-align: right;\">\n",
       "      <th></th>\n",
       "      <th>Number of Unique Items</th>\n",
       "      <th>Average Price</th>\n",
       "      <th>Number of Purchases</th>\n",
       "      <th>Total Revenue</th>\n",
       "    </tr>\n",
       "  </thead>\n",
       "  <tbody>\n",
       "    <tr>\n",
       "      <th>0</th>\n",
       "      <td>179</td>\n",
       "      <td>3.050987</td>\n",
       "      <td>780</td>\n",
       "      <td>2379.77</td>\n",
       "    </tr>\n",
       "  </tbody>\n",
       "</table>\n",
       "</div>"
      ],
      "text/plain": [
       "   Number of Unique Items  Average Price  Number of Purchases  Total Revenue\n",
       "0                     179       3.050987                  780        2379.77"
      ]
     },
     "execution_count": 3,
     "metadata": {},
     "output_type": "execute_result"
    }
   ],
   "source": [
    "# Calculations for unique items, average price, total revenue and number of purchases\n",
    "unique_items = len((purchase_data_df[\"Item ID\"]).unique())\n",
    "avg_price = (purchase_data_df[\"Price\"]).mean()\n",
    "numb_purchases = (purchase_data_df[\"Purchase ID\"]).count()\n",
    "ttl_revenue = (purchase_data_df[\"Price\"]).sum()\n",
    "\n",
    "# Create a summary DataFrame to hold results\n",
    "summary_df = pd.DataFrame({\"Number of Unique Items\":[unique_items],\n",
    "                          \"Average Price\":[avg_price], \"Number of Purchases\":[numb_purchases],\n",
    "                          \"Total Revenue\":[ttl_revenue]})\n",
    "\n",
    "# Display the summary DataFrame\n",
    "summary_df.style.format({'Average Price': \"${:,.2f}\",\n",
    "                        'Total Revenue': \"${:,.2f}\"})\n",
    "\n",
    "summary_df.head()"
   ]
  },
  {
   "cell_type": "markdown",
   "metadata": {},
   "source": [
    "## Gender Demographics"
   ]
  },
  {
   "cell_type": "markdown",
   "metadata": {},
   "source": [
    "* Percentage and Count of Male Players\n",
    "\n",
    "\n",
    "* Percentage and Count of Female Players\n",
    "\n",
    "\n",
    "* Percentage and Count of Other / Non-Disclosed\n",
    "\n",
    "\n"
   ]
  },
  {
   "cell_type": "code",
   "execution_count": 4,
   "metadata": {},
   "outputs": [
    {
     "data": {
      "text/html": [
       "<style  type=\"text/css\" >\n",
       "</style><table id=\"T_fae10baa_0422_11eb_8e47_acde48001122\" ><thead>    <tr>        <th class=\"blank level0\" ></th>        <th class=\"col_heading level0 col0\" >Percentage of Players</th>        <th class=\"col_heading level0 col1\" >Total Count</th>    </tr></thead><tbody>\n",
       "                <tr>\n",
       "                        <th id=\"T_fae10baa_0422_11eb_8e47_acde48001122level0_row0\" class=\"row_heading level0 row0\" >Male</th>\n",
       "                        <td id=\"T_fae10baa_0422_11eb_8e47_acde48001122row0_col0\" class=\"data row0 col0\" >84.03%</td>\n",
       "                        <td id=\"T_fae10baa_0422_11eb_8e47_acde48001122row0_col1\" class=\"data row0 col1\" >484</td>\n",
       "            </tr>\n",
       "            <tr>\n",
       "                        <th id=\"T_fae10baa_0422_11eb_8e47_acde48001122level0_row1\" class=\"row_heading level0 row1\" >Female</th>\n",
       "                        <td id=\"T_fae10baa_0422_11eb_8e47_acde48001122row1_col0\" class=\"data row1 col0\" >14.06%</td>\n",
       "                        <td id=\"T_fae10baa_0422_11eb_8e47_acde48001122row1_col1\" class=\"data row1 col1\" >81</td>\n",
       "            </tr>\n",
       "            <tr>\n",
       "                        <th id=\"T_fae10baa_0422_11eb_8e47_acde48001122level0_row2\" class=\"row_heading level0 row2\" >Other / Non-Disclosed</th>\n",
       "                        <td id=\"T_fae10baa_0422_11eb_8e47_acde48001122row2_col0\" class=\"data row2 col0\" >1.91%</td>\n",
       "                        <td id=\"T_fae10baa_0422_11eb_8e47_acde48001122row2_col1\" class=\"data row2 col1\" >11</td>\n",
       "            </tr>\n",
       "    </tbody></table>"
      ],
      "text/plain": [
       "<pandas.io.formats.style.Styler at 0x7fae3cf3d520>"
      ]
     },
     "execution_count": 4,
     "metadata": {},
     "output_type": "execute_result"
    }
   ],
   "source": [
    "# Create Demographics for the percentage and count of Male/Female players\n",
    "# Create Demographics for the percentage and count of other/non-disclosed players\n",
    "gender_demo = purchase_data_df.groupby(\"Gender\")\n",
    "\n",
    "total_gender = gender_demo.nunique()[\"SN\"]\n",
    "\n",
    "percentage_players = total_gender / total_players * 100\n",
    "\n",
    "# Create a new DataFrame\n",
    "gender_demo = pd.DataFrame({\"Percentage of Players\": percentage_players, \"Total Count\": total_gender})\n",
    "\n",
    "gender_demo.index.name = None\n",
    "\n",
    "gender_demo.sort_values([\"Total Count\"], ascending = False).style.format({\"Percentage of Players\": \"{:.2f}%\"})\n"
   ]
  },
  {
   "cell_type": "markdown",
   "metadata": {},
   "source": [
    "\n",
    "## Purchasing Analysis (Gender)"
   ]
  },
  {
   "cell_type": "markdown",
   "metadata": {},
   "source": [
    "* Run basic calculations to obtain purchase count, avg. purchase price, avg. purchase total per person etc. by gender\n",
    "\n",
    "\n",
    "\n",
    "\n",
    "* Create a summary data frame to hold the results\n",
    "\n",
    "\n",
    "* Optional: give the displayed data cleaner formatting\n",
    "\n",
    "\n",
    "* Display the summary data frame"
   ]
  },
  {
   "cell_type": "code",
   "execution_count": 5,
   "metadata": {},
   "outputs": [
    {
     "data": {
      "text/html": [
       "<style  type=\"text/css\" >\n",
       "</style><table id=\"T_fda00292_0422_11eb_8e47_acde48001122\" ><thead>    <tr>        <th class=\"blank level0\" ></th>        <th class=\"col_heading level0 col0\" >Purchase Count</th>        <th class=\"col_heading level0 col1\" >Average Purchase Price</th>        <th class=\"col_heading level0 col2\" >Average Purchase Value</th>        <th class=\"col_heading level0 col3\" >Average Total per Person</th>    </tr>    <tr>        <th class=\"index_name level0\" >Gender</th>        <th class=\"blank\" ></th>        <th class=\"blank\" ></th>        <th class=\"blank\" ></th>        <th class=\"blank\" ></th>    </tr></thead><tbody>\n",
       "                <tr>\n",
       "                        <th id=\"T_fda00292_0422_11eb_8e47_acde48001122level0_row0\" class=\"row_heading level0 row0\" >Female</th>\n",
       "                        <td id=\"T_fda00292_0422_11eb_8e47_acde48001122row0_col0\" class=\"data row0 col0\" >113</td>\n",
       "                        <td id=\"T_fda00292_0422_11eb_8e47_acde48001122row0_col1\" class=\"data row0 col1\" >$3.20</td>\n",
       "                        <td id=\"T_fda00292_0422_11eb_8e47_acde48001122row0_col2\" class=\"data row0 col2\" >$3.20</td>\n",
       "                        <td id=\"T_fda00292_0422_11eb_8e47_acde48001122row0_col3\" class=\"data row0 col3\" >$0.04</td>\n",
       "            </tr>\n",
       "            <tr>\n",
       "                        <th id=\"T_fda00292_0422_11eb_8e47_acde48001122level0_row1\" class=\"row_heading level0 row1\" >Male</th>\n",
       "                        <td id=\"T_fda00292_0422_11eb_8e47_acde48001122row1_col0\" class=\"data row1 col0\" >652</td>\n",
       "                        <td id=\"T_fda00292_0422_11eb_8e47_acde48001122row1_col1\" class=\"data row1 col1\" >$3.02</td>\n",
       "                        <td id=\"T_fda00292_0422_11eb_8e47_acde48001122row1_col2\" class=\"data row1 col2\" >$3.02</td>\n",
       "                        <td id=\"T_fda00292_0422_11eb_8e47_acde48001122row1_col3\" class=\"data row1 col3\" >$0.01</td>\n",
       "            </tr>\n",
       "            <tr>\n",
       "                        <th id=\"T_fda00292_0422_11eb_8e47_acde48001122level0_row2\" class=\"row_heading level0 row2\" >Other / Non-Disclosed</th>\n",
       "                        <td id=\"T_fda00292_0422_11eb_8e47_acde48001122row2_col0\" class=\"data row2 col0\" >15</td>\n",
       "                        <td id=\"T_fda00292_0422_11eb_8e47_acde48001122row2_col1\" class=\"data row2 col1\" >$3.35</td>\n",
       "                        <td id=\"T_fda00292_0422_11eb_8e47_acde48001122row2_col2\" class=\"data row2 col2\" >$3.35</td>\n",
       "                        <td id=\"T_fda00292_0422_11eb_8e47_acde48001122row2_col3\" class=\"data row2 col3\" >$0.30</td>\n",
       "            </tr>\n",
       "    </tbody></table>"
      ],
      "text/plain": [
       "<pandas.io.formats.style.Styler at 0x7fae4013e400>"
      ]
     },
     "execution_count": 5,
     "metadata": {},
     "output_type": "execute_result"
    }
   ],
   "source": [
    "# Calculations for purchase count, average purchase prices, total purchase value, average purchase total per person, by gender\n",
    "gender_stats = purchase_data_df.groupby(\"Gender\")\n",
    "\n",
    "purch_count = gender_stats[\"Purchase ID\"].count()\n",
    "\n",
    "avg_purch_price = gender_stats[\"Price\"].mean()\n",
    "\n",
    "avg_purch_total = gender_stats[\"Price\"].mean()\n",
    "\n",
    "avg_purch_person = avg_purch_total / total_gender\n",
    "\n",
    "# Summarize the DataFrame to hold the results - give the data a clean format-optional\n",
    "gender_demo = pd.DataFrame({\"Purchase Count\": purch_count, \n",
    "                            \"Average Purchase Price\": avg_purch_price, \n",
    "                            \"Average Purchase Value\": avg_purch_total, \n",
    "                            \"Average Total per Person\": avg_purch_person})\n",
    "# Display the summarized DataFrame\n",
    "gender_demo.index.name = \"Gender\"\n",
    "\n",
    "gender_demo.style.format({\"Average Purchase Value\": \"${:.2f}\", \n",
    "                         \"Average Purchase Price\": \"${:.2f}\", \n",
    "                         \"Average Total per Person\": \"${:.2f}\"})"
   ]
  },
  {
   "cell_type": "markdown",
   "metadata": {},
   "source": [
    "## Age Demographics"
   ]
  },
  {
   "cell_type": "markdown",
   "metadata": {},
   "source": [
    "* Establish bins for ages\n",
    "\n",
    "\n",
    "* Categorize the existing players using the age bins. Hint: use pd.cut()\n",
    "\n",
    "\n",
    "* Calculate the numbers and percentages by age group\n",
    "\n",
    "\n",
    "* Create a summary data frame to hold the results\n",
    "\n",
    "\n",
    "* Optional: round the percentage column to two decimal points\n",
    "\n",
    "\n",
    "* Display Age Demographics Table\n"
   ]
  },
  {
   "cell_type": "code",
   "execution_count": 7,
   "metadata": {},
   "outputs": [
    {
     "data": {
      "text/html": [
       "<div>\n",
       "<style scoped>\n",
       "    .dataframe tbody tr th:only-of-type {\n",
       "        vertical-align: middle;\n",
       "    }\n",
       "\n",
       "    .dataframe tbody tr th {\n",
       "        vertical-align: top;\n",
       "    }\n",
       "\n",
       "    .dataframe thead th {\n",
       "        text-align: right;\n",
       "    }\n",
       "</style>\n",
       "<table border=\"1\" class=\"dataframe\">\n",
       "  <thead>\n",
       "    <tr style=\"text-align: right;\">\n",
       "      <th></th>\n",
       "      <th>Percentage of Players</th>\n",
       "      <th>Total Count</th>\n",
       "    </tr>\n",
       "  </thead>\n",
       "  <tbody>\n",
       "    <tr>\n",
       "      <th>0 to 9</th>\n",
       "      <td>2.951389</td>\n",
       "      <td>17</td>\n",
       "    </tr>\n",
       "    <tr>\n",
       "      <th>10 to 14</th>\n",
       "      <td>3.819444</td>\n",
       "      <td>22</td>\n",
       "    </tr>\n",
       "    <tr>\n",
       "      <th>15 to 19</th>\n",
       "      <td>18.576389</td>\n",
       "      <td>107</td>\n",
       "    </tr>\n",
       "    <tr>\n",
       "      <th>20 to 24</th>\n",
       "      <td>44.791667</td>\n",
       "      <td>258</td>\n",
       "    </tr>\n",
       "    <tr>\n",
       "      <th>25 to 29</th>\n",
       "      <td>13.368056</td>\n",
       "      <td>77</td>\n",
       "    </tr>\n",
       "    <tr>\n",
       "      <th>30 to 34</th>\n",
       "      <td>9.027778</td>\n",
       "      <td>52</td>\n",
       "    </tr>\n",
       "    <tr>\n",
       "      <th>35 to 39</th>\n",
       "      <td>5.381944</td>\n",
       "      <td>31</td>\n",
       "    </tr>\n",
       "    <tr>\n",
       "      <th>40+</th>\n",
       "      <td>2.083333</td>\n",
       "      <td>12</td>\n",
       "    </tr>\n",
       "  </tbody>\n",
       "</table>\n",
       "</div>"
      ],
      "text/plain": [
       "          Percentage of Players  Total Count\n",
       "0 to 9                 2.951389           17\n",
       "10 to 14               3.819444           22\n",
       "15 to 19              18.576389          107\n",
       "20 to 24              44.791667          258\n",
       "25 to 29              13.368056           77\n",
       "30 to 34               9.027778           52\n",
       "35 to 39               5.381944           31\n",
       "40+                    2.083333           12"
      ]
     },
     "execution_count": 7,
     "metadata": {},
     "output_type": "execute_result"
    }
   ],
   "source": [
    "# Create bins for the ages\n",
    "bins = [0, 9, 14, 19, 24, 29, 34, 39, 99]\n",
    "bin_groups = [\"0 to 9\", \"10 to 14\", \"15 to 19\", \"20 to 24\", \"25 to 29\", \"30 to 34\", \"35 to 39\", \"40+\"]\n",
    "\n",
    "# Categorize the existing players using age bins\n",
    "purchase_data_df[\"Age Group\"] = pd.cut(purchase_data_df[\"Age\"], bins, labels=bin_groups)\n",
    "purchase_data_df\n",
    "\n",
    "# Calculate the numbers and percentages by age group\n",
    "age_group = purchase_data_df.groupby(\"Age Group\")\n",
    "\n",
    "total_age_count = age_group[\"SN\"].nunique()\n",
    "\n",
    "percent_count = (total_age_count / total_players) * 100\n",
    "\n",
    "# Create a summary DataFrame to hold the results rounding percentage column to 2 decimal points - optional\n",
    "age_demo = pd.DataFrame({\"Percentage of Players\": percent_count, \"Total Count\": total_age_count})\n",
    "\n",
    "age_demo.index.name = None\n",
    "\n",
    "age_demo.style.format({\"Percentage of Players\":\"{:,.2f}\"})\n",
    "\n",
    "# Display the Age Demographics Table\n",
    "age_demo\n"
   ]
  },
  {
   "cell_type": "markdown",
   "metadata": {},
   "source": [
    "## Purchasing Analysis (Age)"
   ]
  },
  {
   "cell_type": "markdown",
   "metadata": {},
   "source": [
    "* Bin the purchase_data data frame by age\n",
    "\n",
    "\n",
    "* Run basic calculations to obtain purchase count, avg. purchase price, avg. purchase total per person etc. in the table below\n",
    "\n",
    "\n",
    "* Create a summary data frame to hold the results\n",
    "\n",
    "\n",
    "* Optional: give the displayed data cleaner formatting\n",
    "\n",
    "\n",
    "* Display the summary data frame"
   ]
  },
  {
   "cell_type": "code",
   "execution_count": 14,
   "metadata": {},
   "outputs": [
    {
     "data": {
      "text/html": [
       "<style  type=\"text/css\" >\n",
       "</style><table id=\"T_503d5e22_0438_11eb_8e47_acde48001122\" ><thead>    <tr>        <th class=\"blank level0\" ></th>        <th class=\"col_heading level0 col0\" >Purchase Count</th>        <th class=\"col_heading level0 col1\" >Average Purchase Price</th>        <th class=\"col_heading level0 col2\" >Total Purchase Value</th>        <th class=\"col_heading level0 col3\" >Average Purchase Total per Person</th>    </tr></thead><tbody>\n",
       "                <tr>\n",
       "                        <th id=\"T_503d5e22_0438_11eb_8e47_acde48001122level0_row0\" class=\"row_heading level0 row0\" >0 to 9</th>\n",
       "                        <td id=\"T_503d5e22_0438_11eb_8e47_acde48001122row0_col0\" class=\"data row0 col0\" >23</td>\n",
       "                        <td id=\"T_503d5e22_0438_11eb_8e47_acde48001122row0_col1\" class=\"data row0 col1\" >$4.54</td>\n",
       "                        <td id=\"T_503d5e22_0438_11eb_8e47_acde48001122row0_col2\" class=\"data row0 col2\" >$77.13</td>\n",
       "                        <td id=\"T_503d5e22_0438_11eb_8e47_acde48001122row0_col3\" class=\"data row0 col3\" >$4.54</td>\n",
       "            </tr>\n",
       "            <tr>\n",
       "                        <th id=\"T_503d5e22_0438_11eb_8e47_acde48001122level0_row1\" class=\"row_heading level0 row1\" >10 to 14</th>\n",
       "                        <td id=\"T_503d5e22_0438_11eb_8e47_acde48001122row1_col0\" class=\"data row1 col0\" >28</td>\n",
       "                        <td id=\"T_503d5e22_0438_11eb_8e47_acde48001122row1_col1\" class=\"data row1 col1\" >$3.76</td>\n",
       "                        <td id=\"T_503d5e22_0438_11eb_8e47_acde48001122row1_col2\" class=\"data row1 col2\" >$82.78</td>\n",
       "                        <td id=\"T_503d5e22_0438_11eb_8e47_acde48001122row1_col3\" class=\"data row1 col3\" >$3.76</td>\n",
       "            </tr>\n",
       "            <tr>\n",
       "                        <th id=\"T_503d5e22_0438_11eb_8e47_acde48001122level0_row2\" class=\"row_heading level0 row2\" >15 to 19</th>\n",
       "                        <td id=\"T_503d5e22_0438_11eb_8e47_acde48001122row2_col0\" class=\"data row2 col0\" >136</td>\n",
       "                        <td id=\"T_503d5e22_0438_11eb_8e47_acde48001122row2_col1\" class=\"data row2 col1\" >$3.86</td>\n",
       "                        <td id=\"T_503d5e22_0438_11eb_8e47_acde48001122row2_col2\" class=\"data row2 col2\" >$412.89</td>\n",
       "                        <td id=\"T_503d5e22_0438_11eb_8e47_acde48001122row2_col3\" class=\"data row2 col3\" >$3.86</td>\n",
       "            </tr>\n",
       "            <tr>\n",
       "                        <th id=\"T_503d5e22_0438_11eb_8e47_acde48001122level0_row3\" class=\"row_heading level0 row3\" >20 to 24</th>\n",
       "                        <td id=\"T_503d5e22_0438_11eb_8e47_acde48001122row3_col0\" class=\"data row3 col0\" >365</td>\n",
       "                        <td id=\"T_503d5e22_0438_11eb_8e47_acde48001122row3_col1\" class=\"data row3 col1\" >$4.32</td>\n",
       "                        <td id=\"T_503d5e22_0438_11eb_8e47_acde48001122row3_col2\" class=\"data row3 col2\" >$1,114.06</td>\n",
       "                        <td id=\"T_503d5e22_0438_11eb_8e47_acde48001122row3_col3\" class=\"data row3 col3\" >$4.32</td>\n",
       "            </tr>\n",
       "            <tr>\n",
       "                        <th id=\"T_503d5e22_0438_11eb_8e47_acde48001122level0_row4\" class=\"row_heading level0 row4\" >25 to 29</th>\n",
       "                        <td id=\"T_503d5e22_0438_11eb_8e47_acde48001122row4_col0\" class=\"data row4 col0\" >101</td>\n",
       "                        <td id=\"T_503d5e22_0438_11eb_8e47_acde48001122row4_col1\" class=\"data row4 col1\" >$3.81</td>\n",
       "                        <td id=\"T_503d5e22_0438_11eb_8e47_acde48001122row4_col2\" class=\"data row4 col2\" >$293.00</td>\n",
       "                        <td id=\"T_503d5e22_0438_11eb_8e47_acde48001122row4_col3\" class=\"data row4 col3\" >$3.81</td>\n",
       "            </tr>\n",
       "            <tr>\n",
       "                        <th id=\"T_503d5e22_0438_11eb_8e47_acde48001122level0_row5\" class=\"row_heading level0 row5\" >30 to 34</th>\n",
       "                        <td id=\"T_503d5e22_0438_11eb_8e47_acde48001122row5_col0\" class=\"data row5 col0\" >73</td>\n",
       "                        <td id=\"T_503d5e22_0438_11eb_8e47_acde48001122row5_col1\" class=\"data row5 col1\" >$4.12</td>\n",
       "                        <td id=\"T_503d5e22_0438_11eb_8e47_acde48001122row5_col2\" class=\"data row5 col2\" >$214.00</td>\n",
       "                        <td id=\"T_503d5e22_0438_11eb_8e47_acde48001122row5_col3\" class=\"data row5 col3\" >$4.12</td>\n",
       "            </tr>\n",
       "            <tr>\n",
       "                        <th id=\"T_503d5e22_0438_11eb_8e47_acde48001122level0_row6\" class=\"row_heading level0 row6\" >35 to 39</th>\n",
       "                        <td id=\"T_503d5e22_0438_11eb_8e47_acde48001122row6_col0\" class=\"data row6 col0\" >41</td>\n",
       "                        <td id=\"T_503d5e22_0438_11eb_8e47_acde48001122row6_col1\" class=\"data row6 col1\" >$4.76</td>\n",
       "                        <td id=\"T_503d5e22_0438_11eb_8e47_acde48001122row6_col2\" class=\"data row6 col2\" >$147.67</td>\n",
       "                        <td id=\"T_503d5e22_0438_11eb_8e47_acde48001122row6_col3\" class=\"data row6 col3\" >$4.76</td>\n",
       "            </tr>\n",
       "            <tr>\n",
       "                        <th id=\"T_503d5e22_0438_11eb_8e47_acde48001122level0_row7\" class=\"row_heading level0 row7\" >40+</th>\n",
       "                        <td id=\"T_503d5e22_0438_11eb_8e47_acde48001122row7_col0\" class=\"data row7 col0\" >13</td>\n",
       "                        <td id=\"T_503d5e22_0438_11eb_8e47_acde48001122row7_col1\" class=\"data row7 col1\" >$3.19</td>\n",
       "                        <td id=\"T_503d5e22_0438_11eb_8e47_acde48001122row7_col2\" class=\"data row7 col2\" >$38.24</td>\n",
       "                        <td id=\"T_503d5e22_0438_11eb_8e47_acde48001122row7_col3\" class=\"data row7 col3\" >$3.19</td>\n",
       "            </tr>\n",
       "    </tbody></table>"
      ],
      "text/plain": [
       "<pandas.io.formats.style.Styler at 0x7fae41b77a90>"
      ]
     },
     "execution_count": 14,
     "metadata": {},
     "output_type": "execute_result"
    }
   ],
   "source": [
    "# Bin the purchase_data frame by age\n",
    "purch_count_age = age_group[\"Purchase ID\"].count()\n",
    "# Calculations for purchase count, avg. purchase price, avg. purchase total/person\n",
    "avg_purch_price = age_group[\"Price\"].mean()\n",
    "\n",
    "total_purch_value = age_group[\"Price\"].sum()\n",
    "\n",
    "avg_purch_person = total_purch_value/total_age_count\n",
    "\n",
    "# Create a summary DataFrame for the results - opt-give data a clean format\n",
    "age_demo = pd.DataFrame({\"Purchase Count\": purch_count_age, \n",
    "                         \"Average Purchase Price\": avg_purch_person, \n",
    "                         \"Total Purchase Value\": total_purch_value, \n",
    "                         \"Average Purchase Total per Person\": avg_purch_person})\n",
    "\n",
    "age_demo.index.name = None\n",
    "\n",
    "# Display the summary DataFrame\n",
    "age_demo.style.format({\"Average Purchase Price\": \"${:,.2f}\", \n",
    "                      \"Total Purchase Value\": \"${:,.2f}\", \n",
    "                      \"Average Purchase Total per Person\": \"${:,.2f}\",})\n"
   ]
  },
  {
   "cell_type": "markdown",
   "metadata": {},
   "source": [
    "## Top Spenders"
   ]
  },
  {
   "cell_type": "markdown",
   "metadata": {},
   "source": [
    "* Run basic calculations to obtain the results in the table below\n",
    "\n",
    "\n",
    "* Create a summary data frame to hold the results\n",
    "\n",
    "\n",
    "* Sort the total purchase value column in descending order\n",
    "\n",
    "\n",
    "* Optional: give the displayed data cleaner formatting\n",
    "\n",
    "\n",
    "* Display a preview of the summary data frame\n",
    "\n"
   ]
  },
  {
   "cell_type": "code",
   "execution_count": 21,
   "metadata": {},
   "outputs": [
    {
     "data": {
      "text/html": [
       "<style  type=\"text/css\" >\n",
       "</style><table id=\"T_d669e9b6_04ba_11eb_8e47_acde48001122\" ><thead>    <tr>        <th class=\"blank level0\" ></th>        <th class=\"col_heading level0 col0\" >Purchase Count</th>        <th class=\"col_heading level0 col1\" >Average Purchase Price</th>        <th class=\"col_heading level0 col2\" >Total Purchase Value</th>    </tr>    <tr>        <th class=\"index_name level0\" >SN</th>        <th class=\"blank\" ></th>        <th class=\"blank\" ></th>        <th class=\"blank\" ></th>    </tr></thead><tbody>\n",
       "                <tr>\n",
       "                        <th id=\"T_d669e9b6_04ba_11eb_8e47_acde48001122level0_row0\" class=\"row_heading level0 row0\" >Lisosia93</th>\n",
       "                        <td id=\"T_d669e9b6_04ba_11eb_8e47_acde48001122row0_col0\" class=\"data row0 col0\" >5</td>\n",
       "                        <td id=\"T_d669e9b6_04ba_11eb_8e47_acde48001122row0_col1\" class=\"data row0 col1\" >$3.79</td>\n",
       "                        <td id=\"T_d669e9b6_04ba_11eb_8e47_acde48001122row0_col2\" class=\"data row0 col2\" >$18.96</td>\n",
       "            </tr>\n",
       "            <tr>\n",
       "                        <th id=\"T_d669e9b6_04ba_11eb_8e47_acde48001122level0_row1\" class=\"row_heading level0 row1\" >Idastidru52</th>\n",
       "                        <td id=\"T_d669e9b6_04ba_11eb_8e47_acde48001122row1_col0\" class=\"data row1 col0\" >4</td>\n",
       "                        <td id=\"T_d669e9b6_04ba_11eb_8e47_acde48001122row1_col1\" class=\"data row1 col1\" >$3.86</td>\n",
       "                        <td id=\"T_d669e9b6_04ba_11eb_8e47_acde48001122row1_col2\" class=\"data row1 col2\" >$15.45</td>\n",
       "            </tr>\n",
       "            <tr>\n",
       "                        <th id=\"T_d669e9b6_04ba_11eb_8e47_acde48001122level0_row2\" class=\"row_heading level0 row2\" >Chamjask73</th>\n",
       "                        <td id=\"T_d669e9b6_04ba_11eb_8e47_acde48001122row2_col0\" class=\"data row2 col0\" >3</td>\n",
       "                        <td id=\"T_d669e9b6_04ba_11eb_8e47_acde48001122row2_col1\" class=\"data row2 col1\" >$4.61</td>\n",
       "                        <td id=\"T_d669e9b6_04ba_11eb_8e47_acde48001122row2_col2\" class=\"data row2 col2\" >$13.83</td>\n",
       "            </tr>\n",
       "            <tr>\n",
       "                        <th id=\"T_d669e9b6_04ba_11eb_8e47_acde48001122level0_row3\" class=\"row_heading level0 row3\" >Iral74</th>\n",
       "                        <td id=\"T_d669e9b6_04ba_11eb_8e47_acde48001122row3_col0\" class=\"data row3 col0\" >4</td>\n",
       "                        <td id=\"T_d669e9b6_04ba_11eb_8e47_acde48001122row3_col1\" class=\"data row3 col1\" >$3.40</td>\n",
       "                        <td id=\"T_d669e9b6_04ba_11eb_8e47_acde48001122row3_col2\" class=\"data row3 col2\" >$13.62</td>\n",
       "            </tr>\n",
       "            <tr>\n",
       "                        <th id=\"T_d669e9b6_04ba_11eb_8e47_acde48001122level0_row4\" class=\"row_heading level0 row4\" >Iskadarya95</th>\n",
       "                        <td id=\"T_d669e9b6_04ba_11eb_8e47_acde48001122row4_col0\" class=\"data row4 col0\" >3</td>\n",
       "                        <td id=\"T_d669e9b6_04ba_11eb_8e47_acde48001122row4_col1\" class=\"data row4 col1\" >$4.37</td>\n",
       "                        <td id=\"T_d669e9b6_04ba_11eb_8e47_acde48001122row4_col2\" class=\"data row4 col2\" >$13.10</td>\n",
       "            </tr>\n",
       "    </tbody></table>"
      ],
      "text/plain": [
       "<pandas.io.formats.style.Styler at 0x7fae41b59d00>"
      ]
     },
     "execution_count": 21,
     "metadata": {},
     "output_type": "execute_result"
    }
   ],
   "source": [
    "# Calculations for the top spenders\n",
    "spend_stats = purchase_data_df.groupby(\"SN\")\n",
    "\n",
    "purch_count = spend_stats[\"Purchase ID\"].count()\n",
    "\n",
    "avg_purch_person = spend_stats[\"Price\"].mean()\n",
    "\n",
    "total_purch_spend = spend_stats[\"Price\"].sum()\n",
    "\n",
    "# Create a summary DataFrame to hold the results\n",
    "top_spenders = pd.DataFrame({\"Purchase Count\": purch_count, \n",
    "                            \"Average Purchase Price\": avg_purch_person, \n",
    "                            \"Total Purchase Value\": total_purch_spend})\n",
    "\n",
    "# Sort the total purchase value column in descending order - opt-cleaner formatting\n",
    "descend_format = top_spenders.sort_values([\"Total Purchase Value\"], ascending=False).head()\n",
    "                                          \n",
    "# Display the DataFrame\n",
    "descend_format.style.format({\"Average Purchase Total\": \"${:,.2f}\", \n",
    "                           \"Average Purchase Price\": \"${:,.2f}\", \n",
    "                           \"Total Purchase Value\": \"${:,.2f}\"})                                    "
   ]
  },
  {
   "cell_type": "markdown",
   "metadata": {},
   "source": [
    "Most Popular Items"
   ]
  },
  {
   "cell_type": "markdown",
   "metadata": {},
   "source": [
    "* Retrieve the Item ID, Item Name, and Item Price columns\n",
    "\n",
    "\n",
    "* Group by Item ID and Item Name. Perform calculations to obtain purchase count, average item price, and total purchase value\n",
    "\n",
    "\n",
    "* Create a summary data frame to hold the results\n",
    "\n",
    "\n",
    "* Sort the purchase count column in descending order\n",
    "\n",
    "\n",
    "* Optional: give the displayed data cleaner formatting\n",
    "\n",
    "\n",
    "* Display a preview of the summary data frame\n",
    "\n"
   ]
  },
  {
   "cell_type": "code",
   "execution_count": 30,
   "metadata": {},
   "outputs": [
    {
     "data": {
      "text/html": [
       "<style  type=\"text/css\" >\n",
       "</style><table id=\"T_2a13d6be_04e6_11eb_8e47_acde48001122\" ><thead>    <tr>        <th class=\"blank\" ></th>        <th class=\"blank level0\" ></th>        <th class=\"col_heading level0 col0\" >Purchase Count</th>        <th class=\"col_heading level0 col1\" >Item Price</th>        <th class=\"col_heading level0 col2\" >Total Purchase Value</th>    </tr>    <tr>        <th class=\"index_name level0\" >Item ID</th>        <th class=\"index_name level1\" >Item Name</th>        <th class=\"blank\" ></th>        <th class=\"blank\" ></th>        <th class=\"blank\" ></th>    </tr></thead><tbody>\n",
       "                <tr>\n",
       "                        <th id=\"T_2a13d6be_04e6_11eb_8e47_acde48001122level0_row0\" class=\"row_heading level0 row0\" >92</th>\n",
       "                        <th id=\"T_2a13d6be_04e6_11eb_8e47_acde48001122level1_row0\" class=\"row_heading level1 row0\" >Final Critic</th>\n",
       "                        <td id=\"T_2a13d6be_04e6_11eb_8e47_acde48001122row0_col0\" class=\"data row0 col0\" >13</td>\n",
       "                        <td id=\"T_2a13d6be_04e6_11eb_8e47_acde48001122row0_col1\" class=\"data row0 col1\" >0.35</td>\n",
       "                        <td id=\"T_2a13d6be_04e6_11eb_8e47_acde48001122row0_col2\" class=\"data row0 col2\" >$4.61</td>\n",
       "            </tr>\n",
       "            <tr>\n",
       "                        <th id=\"T_2a13d6be_04e6_11eb_8e47_acde48001122level0_row1\" class=\"row_heading level0 row1\" >178</th>\n",
       "                        <th id=\"T_2a13d6be_04e6_11eb_8e47_acde48001122level1_row1\" class=\"row_heading level1 row1\" >Oathbreaker, Last Hope of the Breaking Storm</th>\n",
       "                        <td id=\"T_2a13d6be_04e6_11eb_8e47_acde48001122row1_col0\" class=\"data row1 col0\" >12</td>\n",
       "                        <td id=\"T_2a13d6be_04e6_11eb_8e47_acde48001122row1_col1\" class=\"data row1 col1\" >0.35</td>\n",
       "                        <td id=\"T_2a13d6be_04e6_11eb_8e47_acde48001122row1_col2\" class=\"data row1 col2\" >$4.23</td>\n",
       "            </tr>\n",
       "            <tr>\n",
       "                        <th id=\"T_2a13d6be_04e6_11eb_8e47_acde48001122level0_row2\" class=\"row_heading level0 row2\" >145</th>\n",
       "                        <th id=\"T_2a13d6be_04e6_11eb_8e47_acde48001122level1_row2\" class=\"row_heading level1 row2\" >Fiery Glass Crusader</th>\n",
       "                        <td id=\"T_2a13d6be_04e6_11eb_8e47_acde48001122row2_col0\" class=\"data row2 col0\" >9</td>\n",
       "                        <td id=\"T_2a13d6be_04e6_11eb_8e47_acde48001122row2_col1\" class=\"data row2 col1\" >0.51</td>\n",
       "                        <td id=\"T_2a13d6be_04e6_11eb_8e47_acde48001122row2_col2\" class=\"data row2 col2\" >$4.58</td>\n",
       "            </tr>\n",
       "            <tr>\n",
       "                        <th id=\"T_2a13d6be_04e6_11eb_8e47_acde48001122level0_row3\" class=\"row_heading level0 row3\" >132</th>\n",
       "                        <th id=\"T_2a13d6be_04e6_11eb_8e47_acde48001122level1_row3\" class=\"row_heading level1 row3\" >Persuasion</th>\n",
       "                        <td id=\"T_2a13d6be_04e6_11eb_8e47_acde48001122row3_col0\" class=\"data row3 col0\" >9</td>\n",
       "                        <td id=\"T_2a13d6be_04e6_11eb_8e47_acde48001122row3_col1\" class=\"data row3 col1\" >0.36</td>\n",
       "                        <td id=\"T_2a13d6be_04e6_11eb_8e47_acde48001122row3_col2\" class=\"data row3 col2\" >$3.22</td>\n",
       "            </tr>\n",
       "            <tr>\n",
       "                        <th id=\"T_2a13d6be_04e6_11eb_8e47_acde48001122level0_row4\" class=\"row_heading level0 row4\" >108</th>\n",
       "                        <th id=\"T_2a13d6be_04e6_11eb_8e47_acde48001122level1_row4\" class=\"row_heading level1 row4\" >Extraction, Quickblade Of Trembling Hands</th>\n",
       "                        <td id=\"T_2a13d6be_04e6_11eb_8e47_acde48001122row4_col0\" class=\"data row4 col0\" >9</td>\n",
       "                        <td id=\"T_2a13d6be_04e6_11eb_8e47_acde48001122row4_col1\" class=\"data row4 col1\" >0.39</td>\n",
       "                        <td id=\"T_2a13d6be_04e6_11eb_8e47_acde48001122row4_col2\" class=\"data row4 col2\" >$3.53</td>\n",
       "            </tr>\n",
       "    </tbody></table>"
      ],
      "text/plain": [
       "<pandas.io.formats.style.Styler at 0x7fae41b59b50>"
      ]
     },
     "execution_count": 30,
     "metadata": {},
     "output_type": "execute_result"
    }
   ],
   "source": [
    "# Create the Item ID, Item Name and Item Price Columns\n",
    "items = purchase_data_df[[\"Item ID\", \"Item Name\", \"Price\"]]\n",
    "\n",
    "# Group by Item ID and Item Name.  Include calcs to obtain purchase count, average item price and total purchase value\n",
    "item_stats = items.groupby([\"Item ID\", \"Item Name\"])\n",
    "\n",
    "purch_count = item_stats[\"Price\"].count()\n",
    "\n",
    "purch_value = (item_stats[\"Price\"]).mean()\n",
    "\n",
    "item_price = purch_value/purch_count\n",
    "\n",
    "# Create a summary DataFrame to hold the results\n",
    "most_popular = pd.DataFrame({\"Purchase Count\": purch_count, \n",
    "                             \"Item Price\": item_price, \n",
    "                             \"Total Purchase Value\": purch_value})\n",
    "\n",
    "# Sort the purchase count column in descending order - opt: clean the formatting\n",
    "popular_format = most_popular.sort_values([\"Purchase Count\"], ascending=False).head()\n",
    "\n",
    "# Display a preview of the summary DataFrame\n",
    "popular_format.style.format({\"Item Price\":\"{:,.2f}\", \n",
    "                          \"Total Purchase Value\":\"${:,.2f}\"})\n"
   ]
  },
  {
   "cell_type": "markdown",
   "metadata": {},
   "source": [
    "## Most Profitable Items"
   ]
  },
  {
   "cell_type": "markdown",
   "metadata": {},
   "source": [
    "* Sort the above table by total purchase value in descending order\n",
    "\n",
    "\n",
    "* Optional: give the displayed data cleaner formatting\n",
    "\n",
    "\n",
    "* Display a preview of the data frame\n",
    "\n"
   ]
  },
  {
   "cell_type": "code",
   "execution_count": 31,
   "metadata": {
    "scrolled": true
   },
   "outputs": [
    {
     "data": {
      "text/html": [
       "<style  type=\"text/css\" >\n",
       "</style><table id=\"T_d651c724_04e6_11eb_8e47_acde48001122\" ><thead>    <tr>        <th class=\"blank\" ></th>        <th class=\"blank level0\" ></th>        <th class=\"col_heading level0 col0\" >Purchase Count</th>        <th class=\"col_heading level0 col1\" >Item Price</th>        <th class=\"col_heading level0 col2\" >Total Purchase Value</th>    </tr>    <tr>        <th class=\"index_name level0\" >Item ID</th>        <th class=\"index_name level1\" >Item Name</th>        <th class=\"blank\" ></th>        <th class=\"blank\" ></th>        <th class=\"blank\" ></th>    </tr></thead><tbody>\n",
       "                <tr>\n",
       "                        <th id=\"T_d651c724_04e6_11eb_8e47_acde48001122level0_row0\" class=\"row_heading level0 row0\" >63</th>\n",
       "                        <th id=\"T_d651c724_04e6_11eb_8e47_acde48001122level1_row0\" class=\"row_heading level1 row0\" >Stormfury Mace</th>\n",
       "                        <td id=\"T_d651c724_04e6_11eb_8e47_acde48001122row0_col0\" class=\"data row0 col0\" >2</td>\n",
       "                        <td id=\"T_d651c724_04e6_11eb_8e47_acde48001122row0_col1\" class=\"data row0 col1\" >2.50</td>\n",
       "                        <td id=\"T_d651c724_04e6_11eb_8e47_acde48001122row0_col2\" class=\"data row0 col2\" >$4.99</td>\n",
       "            </tr>\n",
       "            <tr>\n",
       "                        <th id=\"T_d651c724_04e6_11eb_8e47_acde48001122level0_row1\" class=\"row_heading level0 row1\" >139</th>\n",
       "                        <th id=\"T_d651c724_04e6_11eb_8e47_acde48001122level1_row1\" class=\"row_heading level1 row1\" >Mercy, Katana of Dismay</th>\n",
       "                        <td id=\"T_d651c724_04e6_11eb_8e47_acde48001122row1_col0\" class=\"data row1 col0\" >5</td>\n",
       "                        <td id=\"T_d651c724_04e6_11eb_8e47_acde48001122row1_col1\" class=\"data row1 col1\" >0.99</td>\n",
       "                        <td id=\"T_d651c724_04e6_11eb_8e47_acde48001122row1_col2\" class=\"data row1 col2\" >$4.94</td>\n",
       "            </tr>\n",
       "            <tr>\n",
       "                        <th id=\"T_d651c724_04e6_11eb_8e47_acde48001122level0_row2\" class=\"row_heading level0 row2\" >173</th>\n",
       "                        <th id=\"T_d651c724_04e6_11eb_8e47_acde48001122level1_row2\" class=\"row_heading level1 row2\" >Stormfury Longsword</th>\n",
       "                        <td id=\"T_d651c724_04e6_11eb_8e47_acde48001122row2_col0\" class=\"data row2 col0\" >2</td>\n",
       "                        <td id=\"T_d651c724_04e6_11eb_8e47_acde48001122row2_col1\" class=\"data row2 col1\" >2.46</td>\n",
       "                        <td id=\"T_d651c724_04e6_11eb_8e47_acde48001122row2_col2\" class=\"data row2 col2\" >$4.93</td>\n",
       "            </tr>\n",
       "            <tr>\n",
       "                        <th id=\"T_d651c724_04e6_11eb_8e47_acde48001122level0_row3\" class=\"row_heading level0 row3\" >147</th>\n",
       "                        <th id=\"T_d651c724_04e6_11eb_8e47_acde48001122level1_row3\" class=\"row_heading level1 row3\" >Hellreaver, Heirloom of Inception</th>\n",
       "                        <td id=\"T_d651c724_04e6_11eb_8e47_acde48001122row3_col0\" class=\"data row3 col0\" >3</td>\n",
       "                        <td id=\"T_d651c724_04e6_11eb_8e47_acde48001122row3_col1\" class=\"data row3 col1\" >1.64</td>\n",
       "                        <td id=\"T_d651c724_04e6_11eb_8e47_acde48001122row3_col2\" class=\"data row3 col2\" >$4.93</td>\n",
       "            </tr>\n",
       "            <tr>\n",
       "                        <th id=\"T_d651c724_04e6_11eb_8e47_acde48001122level0_row4\" class=\"row_heading level0 row4\" >128</th>\n",
       "                        <th id=\"T_d651c724_04e6_11eb_8e47_acde48001122level1_row4\" class=\"row_heading level1 row4\" >Blazeguard, Reach of Eternity</th>\n",
       "                        <td id=\"T_d651c724_04e6_11eb_8e47_acde48001122row4_col0\" class=\"data row4 col0\" >5</td>\n",
       "                        <td id=\"T_d651c724_04e6_11eb_8e47_acde48001122row4_col1\" class=\"data row4 col1\" >0.98</td>\n",
       "                        <td id=\"T_d651c724_04e6_11eb_8e47_acde48001122row4_col2\" class=\"data row4 col2\" >$4.91</td>\n",
       "            </tr>\n",
       "    </tbody></table>"
      ],
      "text/plain": [
       "<pandas.io.formats.style.Styler at 0x7fae41b739d0>"
      ]
     },
     "execution_count": 31,
     "metadata": {},
     "output_type": "execute_result"
    }
   ],
   "source": [
    "# Sort the total purchase value column in descending order - opt: clean the formatting\n",
    "popular_format = most_popular.sort_values([\"Total Purchase Value\"], ascending=False).head()\n",
    "\n",
    "# Display a preview of the summary DataFrame\n",
    "popular_format.style.format({\"Item Price\":\"{:,.2f}\", \n",
    "                          \"Total Purchase Value\":\"${:,.2f}\"})\n"
   ]
  },
  {
   "cell_type": "code",
   "execution_count": null,
   "metadata": {},
   "outputs": [],
   "source": []
  }
 ],
 "metadata": {
  "anaconda-cloud": {},
  "kernel_info": {
   "name": "python3"
  },
  "kernelspec": {
   "display_name": "Python 3",
   "language": "python",
   "name": "python3"
  },
  "language_info": {
   "codemirror_mode": {
    "name": "ipython",
    "version": 3
   },
   "file_extension": ".py",
   "mimetype": "text/x-python",
   "name": "python",
   "nbconvert_exporter": "python",
   "pygments_lexer": "ipython3",
   "version": "3.8.3"
  },
  "latex_envs": {
   "LaTeX_envs_menu_present": true,
   "autoclose": false,
   "autocomplete": true,
   "bibliofile": "biblio.bib",
   "cite_by": "apalike",
   "current_citInitial": 1,
   "eqLabelWithNumbers": true,
   "eqNumInitial": 1,
   "hotkeys": {
    "equation": "Ctrl-E",
    "itemize": "Ctrl-I"
   },
   "labels_anchors": false,
   "latex_user_defs": false,
   "report_style_numbering": false,
   "user_envs_cfg": false
  },
  "nteract": {
   "version": "0.2.0"
  }
 },
 "nbformat": 4,
 "nbformat_minor": 2
}
